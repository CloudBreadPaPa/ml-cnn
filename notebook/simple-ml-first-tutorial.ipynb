{
 "cells": [
  {
   "cell_type": "code",
   "execution_count": 55,
   "id": "48d33192",
   "metadata": {},
   "outputs": [],
   "source": [
    "# 학생의 공부한 시간 / 점수를 표시하는 예제"
   ]
  },
  {
   "cell_type": "code",
   "execution_count": 155,
   "id": "f91b899f",
   "metadata": {},
   "outputs": [],
   "source": [
    "import pandas as pd\n",
    "\n",
    "# 공부한 시간 / 점수 \n",
    "df = pd.DataFrame({'hours': [1, 2, 3, 4, 5, 6, 7, 8, 9, 10],\n",
    "                   'score': [60, 62, 64, 66, 68, 70, 72, 74, 76, 78]})"
   ]
  },
  {
   "cell_type": "code",
   "execution_count": 156,
   "id": "b7b1f13b",
   "metadata": {},
   "outputs": [
    {
     "data": {
      "text/html": [
       "<div>\n",
       "<style scoped>\n",
       "    .dataframe tbody tr th:only-of-type {\n",
       "        vertical-align: middle;\n",
       "    }\n",
       "\n",
       "    .dataframe tbody tr th {\n",
       "        vertical-align: top;\n",
       "    }\n",
       "\n",
       "    .dataframe thead th {\n",
       "        text-align: right;\n",
       "    }\n",
       "</style>\n",
       "<table border=\"1\" class=\"dataframe\">\n",
       "  <thead>\n",
       "    <tr style=\"text-align: right;\">\n",
       "      <th></th>\n",
       "      <th>hours</th>\n",
       "      <th>score</th>\n",
       "    </tr>\n",
       "  </thead>\n",
       "  <tbody>\n",
       "    <tr>\n",
       "      <th>0</th>\n",
       "      <td>1</td>\n",
       "      <td>60</td>\n",
       "    </tr>\n",
       "    <tr>\n",
       "      <th>1</th>\n",
       "      <td>2</td>\n",
       "      <td>62</td>\n",
       "    </tr>\n",
       "    <tr>\n",
       "      <th>2</th>\n",
       "      <td>3</td>\n",
       "      <td>64</td>\n",
       "    </tr>\n",
       "    <tr>\n",
       "      <th>3</th>\n",
       "      <td>4</td>\n",
       "      <td>66</td>\n",
       "    </tr>\n",
       "    <tr>\n",
       "      <th>4</th>\n",
       "      <td>5</td>\n",
       "      <td>68</td>\n",
       "    </tr>\n",
       "    <tr>\n",
       "      <th>5</th>\n",
       "      <td>6</td>\n",
       "      <td>70</td>\n",
       "    </tr>\n",
       "    <tr>\n",
       "      <th>6</th>\n",
       "      <td>7</td>\n",
       "      <td>72</td>\n",
       "    </tr>\n",
       "    <tr>\n",
       "      <th>7</th>\n",
       "      <td>8</td>\n",
       "      <td>74</td>\n",
       "    </tr>\n",
       "    <tr>\n",
       "      <th>8</th>\n",
       "      <td>9</td>\n",
       "      <td>76</td>\n",
       "    </tr>\n",
       "    <tr>\n",
       "      <th>9</th>\n",
       "      <td>10</td>\n",
       "      <td>78</td>\n",
       "    </tr>\n",
       "  </tbody>\n",
       "</table>\n",
       "</div>"
      ],
      "text/plain": [
       "   hours  score\n",
       "0      1     60\n",
       "1      2     62\n",
       "2      3     64\n",
       "3      4     66\n",
       "4      5     68\n",
       "5      6     70\n",
       "6      7     72\n",
       "7      8     74\n",
       "8      9     76\n",
       "9     10     78"
      ]
     },
     "execution_count": 156,
     "metadata": {},
     "output_type": "execute_result"
    }
   ],
   "source": [
    "# 데이터셋 조회\n",
    "df"
   ]
  },
  {
   "cell_type": "code",
   "execution_count": null,
   "id": "9245ea7c",
   "metadata": {},
   "outputs": [],
   "source": []
  },
  {
   "cell_type": "code",
   "execution_count": 157,
   "id": "e9f26954",
   "metadata": {},
   "outputs": [
    {
     "data": {
      "image/png": "[encoded data removed]",
      "text/plain": [
       "<Figure size 432x288 with 1 Axes>"
      ]
     },
     "metadata": {
      "needs_background": "light"
     },
     "output_type": "display_data"
    }
   ],
   "source": [
    "# 데이터를 시각화\n",
    "import matplotlib.pyplot as plt\n",
    "\n",
    "plt.scatter(df.hours, df.score)  # 점도표\n",
    "plt.xlabel('Hours')\n",
    "plt.ylabel('Score')\n",
    "plt.show()"
   ]
  },
  {
   "cell_type": "code",
   "execution_count": 158,
   "id": "90ae42b4",
   "metadata": {},
   "outputs": [],
   "source": [
    "# 시각화된 결과를 통해 패턴을 알 수 있다. \n",
    "# 머신러닝 기법을 이용해 분석하기 위해 데이터를 분할."
   ]
  },
  {
   "cell_type": "code",
   "execution_count": 159,
   "id": "a8309248",
   "metadata": {},
   "outputs": [],
   "source": [
    "# 학습 데이터 X와 라벨데이터 y 로 데이터 분할\n",
    "# X = df.loc[:,['hours']]\n",
    "# y = df.loc[:,['score']] "
   ]
  },
  {
   "cell_type": "code",
   "execution_count": 160,
   "id": "008b96e7",
   "metadata": {},
   "outputs": [
    {
     "data": {
      "text/plain": [
       "array([[ 1],\n",
       "       [ 2],\n",
       "       [ 3],\n",
       "       [ 4],\n",
       "       [ 5],\n",
       "       [ 6],\n",
       "       [ 7],\n",
       "       [ 8],\n",
       "       [ 9],\n",
       "       [10]], dtype=int64)"
      ]
     },
     "execution_count": 160,
     "metadata": {},
     "output_type": "execute_result"
    }
   ],
   "source": [
    "X"
   ]
  },
  {
   "cell_type": "code",
   "execution_count": 161,
   "id": "54c43e34",
   "metadata": {},
   "outputs": [
    {
     "data": {
      "text/plain": [
       "array([[60],\n",
       "       [63],\n",
       "       [64],\n",
       "       [67],\n",
       "       [68],\n",
       "       [71],\n",
       "       [72],\n",
       "       [75],\n",
       "       [76],\n",
       "       [78]], dtype=int64)"
      ]
     },
     "execution_count": 161,
     "metadata": {},
     "output_type": "execute_result"
    }
   ],
   "source": [
    "y"
   ]
  },
  {
   "cell_type": "code",
   "execution_count": 162,
   "id": "304e0b24",
   "metadata": {},
   "outputs": [],
   "source": [
    "X = df[['hours']]\n",
    "y = df[['score']]"
   ]
  },
  {
   "cell_type": "code",
   "execution_count": 163,
   "id": "4b821281",
   "metadata": {},
   "outputs": [],
   "source": [
    "# 데이터를 numpy 포맷으로 변환\n",
    "X = X.to_numpy ()\n",
    "y = y.to_numpy ()"
   ]
  },
  {
   "cell_type": "code",
   "execution_count": 164,
   "id": "cd4552a9",
   "metadata": {},
   "outputs": [
    {
     "data": {
      "text/plain": [
       "LinearRegression()"
      ]
     },
     "execution_count": 164,
     "metadata": {},
     "output_type": "execute_result"
    }
   ],
   "source": [
    "# 선형회기 머신러닝 기법 적용\n",
    "from sklearn.linear_model import LinearRegression\n",
    "\n",
    "regressor = LinearRegression()     # scikit learn LinearRegression 개체 생성\n",
    "regressor.fit(X, y)    # fit 메서드를 사용해 모델 트레이닝 실행"
   ]
  },
  {
   "cell_type": "code",
   "execution_count": 165,
   "id": "3bd4f6e2",
   "metadata": {},
   "outputs": [],
   "source": [
    "# 이렇게 regressor 모델을 생성한다."
   ]
  },
  {
   "cell_type": "code",
   "execution_count": null,
   "id": "5af6f0c7",
   "metadata": {},
   "outputs": [],
   "source": []
  },
  {
   "cell_type": "code",
   "execution_count": 166,
   "id": "b0ac9591",
   "metadata": {},
   "outputs": [],
   "source": [
    "# 데이터에 없던 값을 넣어 머신러닝 모델이 예측을 잘 하는지 확인."
   ]
  },
  {
   "cell_type": "code",
   "execution_count": 167,
   "id": "d3a9059e",
   "metadata": {},
   "outputs": [],
   "source": [
    "# 테스트 데이터 생성\n",
    "test_df = pd.DataFrame({'hours': [12]})  # 학습 데이터에 없던 값"
   ]
  },
  {
   "cell_type": "code",
   "execution_count": 168,
   "id": "cea794a4",
   "metadata": {},
   "outputs": [
    {
     "data": {
      "text/plain": [
       "array([[82.]])"
      ]
     },
     "execution_count": 168,
     "metadata": {},
     "output_type": "execute_result"
    }
   ],
   "source": [
    "X_test = test_df.to_numpy ()\n",
    "y_pred = regressor.predict(X_test)\n",
    "y_pred"
   ]
  },
  {
   "cell_type": "code",
   "execution_count": 169,
   "id": "04d3ea18",
   "metadata": {},
   "outputs": [],
   "source": [
    "# 예측을 잘 한다. \n",
    "# 하지만, 정확도를 알 수가 없다. 어떻게 해야 할까?"
   ]
  },
  {
   "cell_type": "code",
   "execution_count": null,
   "id": "374e75b3",
   "metadata": {},
   "outputs": [],
   "source": []
  },
  {
   "cell_type": "code",
   "execution_count": 170,
   "id": "45d87f86",
   "metadata": {},
   "outputs": [],
   "source": [
    "# 정확도를 예측하려면 트레이닝 / 테스트 데이터셋을 분리 "
   ]
  },
  {
   "cell_type": "code",
   "execution_count": 171,
   "id": "3d6edbbd",
   "metadata": {},
   "outputs": [],
   "source": [
    "from sklearn.model_selection import train_test_split\n",
    "\n",
    "# 데이터를 트레이닝 데이터셋과 테스트 데이터셋으로 분리 \n",
    "X_train, X_test, y_train, y_test = train_test_split(\n",
    "                                                    X, \n",
    "                                                    y, \n",
    "                                                    test_size=0.3,    # 7:3의 비율로 분리\n",
    "                                                    random_state=42\n",
    "                                                   )\n"
   ]
  },
  {
   "cell_type": "code",
   "execution_count": 172,
   "id": "b9bf8462",
   "metadata": {},
   "outputs": [
    {
     "data": {
      "text/plain": [
       "array([[ 1],\n",
       "       [ 8],\n",
       "       [ 3],\n",
       "       [10],\n",
       "       [ 5],\n",
       "       [ 4],\n",
       "       [ 7]], dtype=int64)"
      ]
     },
     "execution_count": 172,
     "metadata": {},
     "output_type": "execute_result"
    }
   ],
   "source": [
    "X_train\n",
    "# 7건의 트레이닝 데이터"
   ]
  },
  {
   "cell_type": "code",
   "execution_count": 173,
   "id": "32e9f09d",
   "metadata": {},
   "outputs": [
    {
     "data": {
      "text/plain": [
       "array([[60],\n",
       "       [74],\n",
       "       [64],\n",
       "       [78],\n",
       "       [68],\n",
       "       [66],\n",
       "       [72]], dtype=int64)"
      ]
     },
     "execution_count": 173,
     "metadata": {},
     "output_type": "execute_result"
    }
   ],
   "source": [
    "y_train"
   ]
  },
  {
   "cell_type": "code",
   "execution_count": 174,
   "id": "1a9f748e",
   "metadata": {},
   "outputs": [
    {
     "data": {
      "text/plain": [
       "array([[9],\n",
       "       [2],\n",
       "       [6]], dtype=int64)"
      ]
     },
     "execution_count": 174,
     "metadata": {},
     "output_type": "execute_result"
    }
   ],
   "source": [
    "X_test\n",
    "# 3건의 테스트 데이터"
   ]
  },
  {
   "cell_type": "code",
   "execution_count": 175,
   "id": "71967bf1",
   "metadata": {},
   "outputs": [
    {
     "data": {
      "text/plain": [
       "array([[76],\n",
       "       [62],\n",
       "       [70]], dtype=int64)"
      ]
     },
     "execution_count": 175,
     "metadata": {},
     "output_type": "execute_result"
    }
   ],
   "source": [
    "y_test"
   ]
  },
  {
   "cell_type": "code",
   "execution_count": 176,
   "id": "aba0790c",
   "metadata": {},
   "outputs": [],
   "source": [
    "\n",
    "regressor = LinearRegression()     # scikit learn LinearRegression 개체 생성\n",
    "regressor.fit(X_train, y_train)    # fit 메서드를 사용해 모델 트레이닝 실행\n",
    "\n",
    "y_pred = regressor.predict(X_test)"
   ]
  },
  {
   "cell_type": "code",
   "execution_count": null,
   "id": "53d9c892",
   "metadata": {},
   "outputs": [],
   "source": []
  },
  {
   "cell_type": "code",
   "execution_count": 177,
   "id": "97773649",
   "metadata": {},
   "outputs": [
    {
     "data": {
      "text/plain": [
       "array([[76.],\n",
       "       [62.],\n",
       "       [70.]])"
      ]
     },
     "execution_count": 177,
     "metadata": {},
     "output_type": "execute_result"
    }
   ],
   "source": [
    "y_pred"
   ]
  },
  {
   "cell_type": "code",
   "execution_count": 178,
   "id": "fb62b630",
   "metadata": {},
   "outputs": [
    {
     "data": {
      "text/plain": [
       "array([[9],\n",
       "       [2],\n",
       "       [6]], dtype=int64)"
      ]
     },
     "execution_count": 178,
     "metadata": {},
     "output_type": "execute_result"
    }
   ],
   "source": [
    "X_test"
   ]
  },
  {
   "cell_type": "code",
   "execution_count": 180,
   "id": "8ec4143a",
   "metadata": {},
   "outputs": [
    {
     "name": "stdout",
     "output_type": "stream",
     "text": [
      "Mean Squared Error: 0.0\n"
     ]
    }
   ],
   "source": [
    "from sklearn import metrics\n",
    "\n",
    "# MSE - 에러율\n",
    "print('Mean Squared Error:', metrics.mean_squared_error(y_test, y_pred))"
   ]
  },
  {
   "cell_type": "code",
   "execution_count": null,
   "id": "7dc4bd7e",
   "metadata": {},
   "outputs": [],
   "source": []
  },
  {
   "cell_type": "markdown",
   "id": "7b3e1623",
   "metadata": {},
   "source": [
    "# 최소제곱법 - 기울기 a를 구하는 방법\n",
    "- x = [1, 2, 3, 4, 5]\n",
    "- y = [60, 62, 64, 66, 68]\n",
    "\n",
    "![](doc_img/a.jpg)"
   ]
  },
  {
   "cell_type": "code",
   "execution_count": 183,
   "id": "fc317e10",
   "metadata": {},
   "outputs": [
    {
     "name": "stdout",
     "output_type": "stream",
     "text": [
      "3.0 64.0\n"
     ]
    }
   ],
   "source": [
    "# 코드로 구현\n",
    "import numpy as np\n",
    "x = [1, 2, 3, 4, 5]\n",
    "y = [60, 62, 64, 66, 68]\n",
    "\n",
    "mx = np.mean(x)\n",
    "my = np.mean(y)\n",
    "print(mx, my)"
   ]
  },
  {
   "cell_type": "code",
   "execution_count": 187,
   "id": "a2a36c9b",
   "metadata": {},
   "outputs": [],
   "source": [
    "divisor = sum([(i-mx)**2 for i in x])"
   ]
  },
  {
   "cell_type": "code",
   "execution_count": 186,
   "id": "b101bdbc",
   "metadata": {},
   "outputs": [],
   "source": [
    "def top(x, mx, y, my):\n",
    "    d = 0\n",
    "    for i in range(len(x)):\n",
    "        d += (x[i] - mx) * (y[i] - my)\n",
    "    return d\n",
    "\n",
    "dividend = top(x, mx, y, my)"
   ]
  },
  {
   "cell_type": "code",
   "execution_count": 188,
   "id": "90887d0b",
   "metadata": {},
   "outputs": [
    {
     "data": {
      "text/plain": [
       "2.0"
      ]
     },
     "execution_count": 188,
     "metadata": {},
     "output_type": "execute_result"
    }
   ],
   "source": [
    "a = dividend / divisor\n",
    "a  # 이렇게 기울기를 구할 수 있다."
   ]
  },
  {
   "cell_type": "code",
   "execution_count": null,
   "id": "fce9817b",
   "metadata": {},
   "outputs": [],
   "source": []
  },
  {
   "cell_type": "code",
   "execution_count": null,
   "id": "2a850e96",
   "metadata": {},
   "outputs": [],
   "source": []
  },
  {
   "cell_type": "code",
   "execution_count": 190,
   "id": "135cb4c0",
   "metadata": {},
   "outputs": [],
   "source": [
    "# 할일 : 추가 데이터셋를 이용해 - MSE를 확인한다.\n",
    "df = pd.DataFrame({'hours': [1, 2, 3, 4, 5, 6, 7, 8, 9, 10],\n",
    "                   'score': [60, 63, 64, 67, 68, 71, 72, 75, 76, 78]})"
   ]
  },
  {
   "cell_type": "code",
   "execution_count": null,
   "id": "f58876ad",
   "metadata": {},
   "outputs": [],
   "source": []
  }
 ],
 "metadata": {
  "kernelspec": {
   "display_name": "Python 3 (ipykernel)",
   "language": "python",
   "name": "python3"
  },
  "language_info": {
   "codemirror_mode": {
    "name": "ipython",
    "version": 3
   },
   "file_extension": ".py",
   "mimetype": "text/x-python",
   "name": "python",
   "nbconvert_exporter": "python",
   "pygments_lexer": "ipython3",
   "version": "3.8.12"
  }
 },
 "nbformat": 4,
 "nbformat_minor": 5
}
