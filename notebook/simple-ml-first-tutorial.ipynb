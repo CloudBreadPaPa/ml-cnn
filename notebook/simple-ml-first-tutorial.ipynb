{
 "cells": [
  {
   "cell_type": "markdown",
   "id": "e5e75650",
   "metadata": {},
   "source": [
    "# 학생의 공부한 시간 / 점수를 표시하는 예제"
   ]
  },
  {
   "cell_type": "code",
   "execution_count": null,
   "id": "66e2873f",
   "metadata": {},
   "outputs": [],
   "source": [
    "import pandas as pd\n",
    "\n",
    "# 공부한 시간 / 점수 \n",
    "df = pd.DataFrame({'hours': [1, 2, 3, 4, 5, 6, 7, 8, 9, 10],\n",
    "                   'score': [60, 62, 64, 66, 68, 70, 72, 74, 76, 78]})"
   ]
  },
  {
   "cell_type": "code",
   "execution_count": null,
   "id": "68d62bc1",
   "metadata": {},
   "outputs": [],
   "source": [
    "# 데이터셋 조회\n",
    "df"
   ]
  },
  {
   "cell_type": "code",
   "execution_count": null,
   "id": "ba8074ce",
   "metadata": {},
   "outputs": [],
   "source": []
  },
  {
   "cell_type": "code",
   "execution_count": null,
   "id": "9923619e",
   "metadata": {},
   "outputs": [],
   "source": [
    "# 데이터를 시각화\n",
    "import matplotlib.pyplot as plt\n",
    "\n",
    "plt.scatter(df.hours, df.score)  # 점도표\n",
    "plt.xlabel('Hours')\n",
    "plt.ylabel('Score')\n",
    "plt.show()"
   ]
  },
  {
   "cell_type": "code",
   "execution_count": null,
   "id": "012c8365",
   "metadata": {},
   "outputs": [],
   "source": [
    "# 시각화된 결과를 통해 패턴을 알 수 있다. \n",
    "# 머신러닝 기법을 이용해 분석하기 위해 데이터를 분할."
   ]
  },
  {
   "cell_type": "code",
   "execution_count": null,
   "id": "80726f81",
   "metadata": {},
   "outputs": [],
   "source": [
    "# 학습 데이터 X와 라벨데이터 y 로 데이터 분할\n",
    "X = df[['hours']]\n",
    "y = df[['score']]"
   ]
  },
  {
   "cell_type": "code",
   "execution_count": null,
   "id": "548dc339",
   "metadata": {},
   "outputs": [],
   "source": [
    "X"
   ]
  },
  {
   "cell_type": "code",
   "execution_count": null,
   "id": "4a930bf7",
   "metadata": {},
   "outputs": [],
   "source": [
    "y"
   ]
  },
  {
   "cell_type": "code",
   "execution_count": null,
   "id": "2d2a0e3d",
   "metadata": {},
   "outputs": [],
   "source": [
    "# 데이터를 numpy 포맷으로 변환\n",
    "X = X.to_numpy ()\n",
    "y = y.to_numpy ()"
   ]
  },
  {
   "cell_type": "code",
   "execution_count": null,
   "id": "77945c30",
   "metadata": {},
   "outputs": [],
   "source": [
    "# 선형회기 머신러닝 기법 적용\n",
    "from sklearn.linear_model import LinearRegression\n",
    "\n",
    "regressor = LinearRegression()     # scikit learn LinearRegression 개체 생성\n",
    "regressor.fit(X, y)    # fit 메서드를 사용해 모델 트레이닝 실행"
   ]
  },
  {
   "cell_type": "code",
   "execution_count": null,
   "id": "2681c348",
   "metadata": {},
   "outputs": [],
   "source": [
    "# 이렇게 regressor 모델을 생성한다."
   ]
  },
  {
   "cell_type": "code",
   "execution_count": null,
   "id": "f3bd5048",
   "metadata": {},
   "outputs": [],
   "source": []
  },
  {
   "cell_type": "code",
   "execution_count": null,
   "id": "b3a1c41b",
   "metadata": {},
   "outputs": [],
   "source": [
    "# 데이터에 없던 값을 넣어 머신러닝 모델이 예측을 잘 하는지 확인."
   ]
  },
  {
   "cell_type": "code",
   "execution_count": null,
   "id": "312c88db",
   "metadata": {},
   "outputs": [],
   "source": [
    "# 테스트 데이터 생성\n",
    "test_df = pd.DataFrame({'hours': [12]})  # 학습 데이터에 없던 값"
   ]
  },
  {
   "cell_type": "code",
   "execution_count": null,
   "id": "8700399e",
   "metadata": {},
   "outputs": [],
   "source": [
    "X_test = test_df.to_numpy ()\n",
    "y_pred = regressor.predict(X_test)\n",
    "y_pred"
   ]
  },
  {
   "cell_type": "code",
   "execution_count": null,
   "id": "7139c825",
   "metadata": {},
   "outputs": [],
   "source": [
    "# 예측을 잘 한다. \n",
    "# 하지만, 정확도를 알 수가 없다. 어떻게 해야 할까?"
   ]
  },
  {
   "cell_type": "code",
   "execution_count": null,
   "id": "6735f8dd",
   "metadata": {},
   "outputs": [],
   "source": []
  },
  {
   "cell_type": "code",
   "execution_count": null,
   "id": "faa4ca48",
   "metadata": {},
   "outputs": [],
   "source": [
    "# 정확도를 예측하려면 트레이닝 / 테스트 데이터셋을 분리 "
   ]
  },
  {
   "cell_type": "code",
   "execution_count": null,
   "id": "2ea70210",
   "metadata": {},
   "outputs": [],
   "source": [
    "from sklearn.model_selection import train_test_split\n",
    "\n",
    "# 데이터를 트레이닝 데이터셋과 테스트 데이터셋으로 분리 \n",
    "X_train, X_test, y_train, y_test = train_test_split(\n",
    "                                                    X, \n",
    "                                                    y, \n",
    "                                                    test_size=0.3,    # 7:3의 비율로 분리\n",
    "                                                    random_state=42\n",
    "                                                   )\n"
   ]
  },
  {
   "cell_type": "code",
   "execution_count": null,
   "id": "8854dbb0",
   "metadata": {},
   "outputs": [],
   "source": [
    "X_train\n",
    "# 7건의 트레이닝 데이터"
   ]
  },
  {
   "cell_type": "code",
   "execution_count": null,
   "id": "52facb89",
   "metadata": {},
   "outputs": [],
   "source": [
    "y_train"
   ]
  },
  {
   "cell_type": "code",
   "execution_count": null,
   "id": "d65a5f46",
   "metadata": {},
   "outputs": [],
   "source": [
    "X_test\n",
    "# 3건의 테스트 데이터"
   ]
  },
  {
   "cell_type": "code",
   "execution_count": null,
   "id": "78a3b16d",
   "metadata": {},
   "outputs": [],
   "source": [
    "y_test"
   ]
  },
  {
   "cell_type": "code",
   "execution_count": null,
   "id": "a5c03c4b",
   "metadata": {},
   "outputs": [],
   "source": [
    "\n",
    "regressor = LinearRegression()     # scikit learn LinearRegression 개체 생성\n",
    "regressor.fit(X_train, y_train)    # fit 메서드를 사용해 모델 트레이닝 실행\n",
    "\n",
    "y_pred = regressor.predict(X_test)"
   ]
  },
  {
   "cell_type": "code",
   "execution_count": null,
   "id": "0c3ab132",
   "metadata": {},
   "outputs": [],
   "source": []
  },
  {
   "cell_type": "code",
   "execution_count": null,
   "id": "af273407",
   "metadata": {},
   "outputs": [],
   "source": [
    "y_pred"
   ]
  },
  {
   "cell_type": "code",
   "execution_count": null,
   "id": "e8e8efc5",
   "metadata": {},
   "outputs": [],
   "source": [
    "X_test"
   ]
  },
  {
   "cell_type": "code",
   "execution_count": null,
   "id": "1a0ebc5a",
   "metadata": {},
   "outputs": [],
   "source": [
    "from sklearn import metrics\n",
    "\n",
    "# MSE - 에러율\n",
    "print('Mean Squared Error:', metrics.mean_squared_error(y_test, y_pred))"
   ]
  },
  {
   "cell_type": "code",
   "execution_count": null,
   "id": "05814d37",
   "metadata": {},
   "outputs": [],
   "source": []
  },
  {
   "cell_type": "markdown",
   "id": "355bce53",
   "metadata": {},
   "source": [
    "# 최소제곱법 - 기울기 a를 구하는 방법\n",
    "- x = [1, 2, 3, 4, 5]\n",
    "- y = [60, 62, 64, 66, 68]\n",
    "\n",
    "![](doc_img/a.jpg)"
   ]
  },
  {
   "cell_type": "code",
   "execution_count": null,
   "id": "d007e4a4",
   "metadata": {},
   "outputs": [],
   "source": [
    "# 코드로 구현\n",
    "import numpy as np\n",
    "x = [1, 2, 3, 4, 5]\n",
    "y = [60, 62, 64, 66, 68]\n",
    "\n",
    "mx = np.mean(x)\n",
    "my = np.mean(y)\n",
    "print(mx, my)"
   ]
  },
  {
   "cell_type": "code",
   "execution_count": null,
   "id": "c32fa9e8",
   "metadata": {},
   "outputs": [],
   "source": [
    "divisor = sum([(i-mx)**2 for i in x])"
   ]
  },
  {
   "cell_type": "code",
   "execution_count": null,
   "id": "e5f512c4",
   "metadata": {},
   "outputs": [],
   "source": [
    "def top(x, mx, y, my):\n",
    "    d = 0\n",
    "    for i in range(len(x)):\n",
    "        d += (x[i] - mx) * (y[i] - my)\n",
    "    return d\n",
    "\n",
    "dividend = top(x, mx, y, my)"
   ]
  },
  {
   "cell_type": "code",
   "execution_count": null,
   "id": "4e6ffee3",
   "metadata": {},
   "outputs": [],
   "source": [
    "a = dividend / divisor\n",
    "a  # 기울기 출력. 이렇게 기울기를 구할 수 있다."
   ]
  },
  {
   "cell_type": "code",
   "execution_count": null,
   "id": "b64a5fde",
   "metadata": {},
   "outputs": [],
   "source": []
  },
  {
   "cell_type": "code",
   "execution_count": null,
   "id": "1454e080",
   "metadata": {},
   "outputs": [],
   "source": []
  },
  {
   "cell_type": "code",
   "execution_count": null,
   "id": "0a41e449",
   "metadata": {},
   "outputs": [],
   "source": [
    "# 할일 : 추가 데이터셋를 이용해 - MSE를 확인한다.\n",
    "df = pd.DataFrame({'hours': [1, 2, 3, 4, 5, 6, 7, 8, 9, 10],\n",
    "                   'score': [60, 63, 64, 67, 68, 71, 72, 75, 76, 78]})"
   ]
  },
  {
   "cell_type": "code",
   "execution_count": null,
   "id": "8f5f4944",
   "metadata": {},
   "outputs": [],
   "source": []
  }
 ],
 "metadata": {
  "kernelspec": {
   "display_name": "Python 3 (ipykernel)",
   "language": "python",
   "name": "python3"
  },
  "language_info": {
   "codemirror_mode": {
    "name": "ipython",
    "version": 3
   },
   "file_extension": ".py",
   "mimetype": "text/x-python",
   "name": "python",
   "nbconvert_exporter": "python",
   "pygments_lexer": "ipython3",
   "version": "3.8.12"
  }
 },
 "nbformat": 4,
 "nbformat_minor": 5
}
