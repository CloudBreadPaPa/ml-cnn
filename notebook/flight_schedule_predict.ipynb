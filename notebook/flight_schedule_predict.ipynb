{
 "cells": [
  {
   "cell_type": "markdown",
   "id": "b44c8eb0",
   "metadata": {},
   "source": [
    "# 비행 스케쥴 예측 - 지연 시간 예측\n",
    "# 모델의 정확도(accuracy) 평가(evaluating)\n",
    "모델을 트레이닝 한 후에는 모델의 accuracy를 파악해야합니다. 모델의 accuracy는, 모델에 의한 예측을 얼마나 확신(confidence) 할 수 있는지에 대한 정보를 제공합니다.\n",
    "\n",
    "**scitkit-learn** 및 **numpy** 라이브러리는 모델 accuracy 측정에 유용합니다.\n"
   ]
  },
  {
   "cell_type": "code",
   "execution_count": null,
   "id": "40365528",
   "metadata": {},
   "outputs": [],
   "source": []
  },
  {
   "cell_type": "code",
   "execution_count": null,
   "id": "f761cdf5",
   "metadata": {},
   "outputs": [],
   "source": [
    "import pandas as pd\n",
    "from sklearn.model_selection import train_test_split\n",
    "from sklearn.linear_model import LinearRegression"
   ]
  },
  {
   "cell_type": "code",
   "execution_count": null,
   "id": "99206dbb",
   "metadata": {},
   "outputs": [],
   "source": []
  },
  {
   "cell_type": "code",
   "execution_count": null,
   "id": "56e6ad04",
   "metadata": {},
   "outputs": [],
   "source": [
    "# CSV 파일에서 데이터를 로드\n",
    "delays_df = pd.read_csv('flight_dataset/Lots_of_flight_data.csv') \n",
    "delays_df.head()  # 5건의 데이터만 표시\n",
    "\n",
    "# 예측을 원하는 데이터는 ARR_DELAY"
   ]
  },
  {
   "cell_type": "code",
   "execution_count": null,
   "id": "27570f78",
   "metadata": {},
   "outputs": [],
   "source": [
    "delays_df.shape  # 데이터의 구조 파악 - 행열"
   ]
  },
  {
   "cell_type": "code",
   "execution_count": null,
   "id": "99e96511",
   "metadata": {},
   "outputs": [],
   "source": []
  },
  {
   "cell_type": "code",
   "execution_count": null,
   "id": "89b345cc",
   "metadata": {},
   "outputs": [],
   "source": [
    "# NaN - null 값이 포함된 데이터 확인.\n",
    "nan_df = delays_df[delays_df.isna().any(axis=1)]\n",
    "nan_df.head()"
   ]
  },
  {
   "cell_type": "code",
   "execution_count": null,
   "id": "23d99328",
   "metadata": {},
   "outputs": [],
   "source": [
    "nan_df.shape"
   ]
  },
  {
   "cell_type": "code",
   "execution_count": null,
   "id": "413d1edc",
   "metadata": {},
   "outputs": [],
   "source": []
  },
  {
   "cell_type": "code",
   "execution_count": null,
   "id": "17d7538d",
   "metadata": {},
   "outputs": [],
   "source": [
    "# null값을 제거 - null값이 있으면 트레이닝 과정에서 문제를 유발할 수 있습니다.\n",
    "delays_df.dropna(inplace=True)\n"
   ]
  },
  {
   "cell_type": "code",
   "execution_count": null,
   "id": "dc5e761c",
   "metadata": {},
   "outputs": [],
   "source": [
    "# Feature column들을 X DataFrame으로 이동\n",
    "X = delays_df.loc[:,['DISTANCE', 'CRS_ELAPSED_TIME']]\n",
    "\n",
    "# Labe column을 y DataFrame으로 이동\n",
    "y = delays_df.loc[:,['ARR_DELAY']] \n",
    "\n",
    "# 데이터를 트레이닝 데이터셋과 테스트 데이터셋으로 분리 \n",
    "X_train, X_test, y_train, y_test = train_test_split(\n",
    "                                                    X, \n",
    "                                                    y, \n",
    "                                                    test_size=0.3, \n",
    "                                                    random_state=42\n",
    "                                                   )\n"
   ]
  },
  {
   "cell_type": "code",
   "execution_count": null,
   "id": "8ab2e2e0",
   "metadata": {},
   "outputs": [],
   "source": [
    "regressor = LinearRegression()     # scikit learn LinearRegression 개체 생성\n",
    "regressor.fit(X_train, y_train)    # fit 메서드를 사용해 모델 트레이닝 실행\n",
    "\n"
   ]
  },
  {
   "cell_type": "code",
   "execution_count": null,
   "id": "500ebf70",
   "metadata": {},
   "outputs": [],
   "source": [
    "y_pred = regressor.predict(X_test)"
   ]
  },
  {
   "cell_type": "code",
   "execution_count": null,
   "id": "29eb99ce",
   "metadata": {},
   "outputs": [],
   "source": []
  },
  {
   "cell_type": "markdown",
   "id": "f7dca88d",
   "metadata": {},
   "source": [
    "## Accuracy 측정\n",
    "트레이닝 된 모델이 있으므로 모델의 accuracy를 확인하는데 사용할 수 있는, 여러 메트릭(metric)이 있습니다.\n",
    "\n",
    "이 메트릭 항목은 모두 수학적 계산을 수행합니다. 여기서 중요한 점은 모든 것을 우리가 직접 계산할 필요가 없다는 것입니다. Scikit-learn과 numpy는 대부분의 작업을 대신 수행합니다.\n"
   ]
  },
  {
   "cell_type": "markdown",
   "id": "61c289b0",
   "metadata": {},
   "source": [
    "### Mean Squared Error(평균 제곱 오차 - MSE)\n",
    "MSE는 결과를 예측할 때 모델이 수행 한 Mean Squared Error입니다.\n",
    "MSE가 낮을수록 좋은 모델입니다.\n",
    "\n",
    "MSE는 실제 label 값과 모델에서 predict 한 값 간의 Mean Squared 차이 입니다.\n",
    "\n",
    "MSE = mean((label값-예측값)^2)\n",
    "\n",
    "이 계산을 수행하기 위해 label 값과 precit 값을 반복 비교하는 코드를 작성할 수 있지만, 전혀 그럴 필요는 없습니다! **scikit-learn** 라이브러리에서 **mean_squared_error**를 사용하면 됩니다.\n"
   ]
  },
  {
   "cell_type": "code",
   "execution_count": null,
   "id": "0dac052a",
   "metadata": {},
   "outputs": [],
   "source": [
    "from sklearn import metrics\n",
    "\n",
    "print('Mean Squared Error:', metrics.mean_squared_error(y_test, y_pred))"
   ]
  },
  {
   "cell_type": "code",
   "execution_count": null,
   "id": "5f6dae46",
   "metadata": {},
   "outputs": [],
   "source": []
  },
  {
   "cell_type": "code",
   "execution_count": null,
   "id": "bc7f1353",
   "metadata": {},
   "outputs": [],
   "source": [
    "# 추가작업: AutoML - tpop 활용"
   ]
  }
 ],
 "metadata": {
  "kernelspec": {
   "display_name": "Python 3 (ipykernel)",
   "language": "python",
   "name": "python3"
  },
  "language_info": {
   "codemirror_mode": {
    "name": "ipython",
    "version": 3
   },
   "file_extension": ".py",
   "mimetype": "text/x-python",
   "name": "python",
   "nbconvert_exporter": "python",
   "pygments_lexer": "ipython3",
   "version": "3.8.12"
  }
 },
 "nbformat": 4,
 "nbformat_minor": 5
}
