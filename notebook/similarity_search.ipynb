{
 "cells": [
  {
   "cell_type": "markdown",
   "metadata": {
    "id": "ND9ooQq-flhc"
   },
   "source": [
    "# Facebook research의 faiss를 이용한 similarity search\n",
    "- Vector similarity search\n",
    "- 유사 이미지 검색\n",
    "- Feature extrator를 이용해 CNN기법 활용"
   ]
  },
  {
   "cell_type": "markdown",
   "metadata": {
    "id": "sRqsAJdWfghy"
   },
   "source": [
    "# faiss install colab - Colab에서 설치하기 위한 준비 수행\n",
    "- https://stackoverflow.com/questions/47967252/installing-faiss-on-google-colaboratory"
   ]
  },
  {
   "cell_type": "code",
   "execution_count": null,
   "metadata": {
    "id": "1N0NnISJ_3a0"
   },
   "outputs": [],
   "source": [
    "!apt install libomp-dev\n",
    "!python -m pip install --upgrade faiss # faiss-gpu"
   ]
  },
  {
   "cell_type": "code",
   "execution_count": null,
   "metadata": {
    "id": "443mNJnp6yq4"
   },
   "outputs": [],
   "source": [
    "import numpy as np\n",
    "from PIL import Image\n",
    "import csv\n",
    "import os\n",
    "from os import listdir\n",
    "from os.path import isfile, join, splitext\n",
    "import shutil\n",
    "import random\n",
    "import matplotlib.pyplot as plt\n",
    "from matplotlib.pyplot import imshow\n",
    "import faiss\n",
    "import time\n",
    "\n",
    "%matplotlib inline"
   ]
  },
  {
   "cell_type": "code",
   "execution_count": null,
   "metadata": {
    "id": "rUlFGZzxgst6"
   },
   "outputs": [],
   "source": [
    "# 기초 예제\n",
    "d = 1\n",
    "nb = 5                      # 데이터셋 사이크\n",
    "nq = 1                     # 쿼리\n",
    "np.random.seed(1234)             # 랜덤 적용\n",
    "\n",
    "xb = np.random.random_integers(10, size=(nb,d)).astype('float32')  # 반드시 float 형태이어야 함\n",
    "xq = np.random.random_integers(10, size=(nq,d)).astype('float32')\n"
   ]
  },
  {
   "cell_type": "code",
   "execution_count": null,
   "metadata": {
    "id": "Hgvg8l6Hg_iv"
   },
   "outputs": [],
   "source": [
    "print('데이터셋 xb: ', xb)\n",
    "print('쿼리 xq: ', xq)"
   ]
  },
  {
   "cell_type": "code",
   "execution_count": null,
   "metadata": {
    "id": "MJHwJ4NxiJY9"
   },
   "outputs": [],
   "source": [
    "index = faiss.IndexFlatL2(d)   # 인덱스 생성\n",
    "print('index.is_trained : ', index.is_trained)\n",
    "\n",
    "index.add(xb)                  # 인덱스에 데이터셋 추가\n",
    "print('index.ntotal : ', index.ntotal)"
   ]
  },
  {
   "cell_type": "code",
   "execution_count": null,
   "metadata": {
    "id": "mDCNhM3HiJPp"
   },
   "outputs": [],
   "source": [
    "k = 3  # 최근접 3개의 결과 출력\n",
    "D, I = index.search(xq, k) \n",
    "print('I : ', I)  # index 번호\n",
    "print('D : ', D)  # distance"
   ]
  },
  {
   "cell_type": "code",
   "execution_count": null,
   "metadata": {
    "id": "GMyAIMZcjqTc"
   },
   "outputs": [],
   "source": [
    "# Index에 따른 데이터 출력\n",
    "print('데이터: ', xb)\n",
    "print('쿼리: ', xq)\n",
    "for _, idx in enumerate(I[0]):\n",
    "    print('최근접 데이터 : ', xb[idx])"
   ]
  },
  {
   "cell_type": "code",
   "execution_count": null,
   "metadata": {
    "id": "8Lhj1eUQCUUD"
   },
   "outputs": [],
   "source": []
  },
  {
   "cell_type": "markdown",
   "metadata": {
    "id": "MtOXQOrZCTnk"
   },
   "source": [
    "# 이미지를 vector(array)로 변환\n",
    "- 이미지 로드\n",
    "- numpy array로 변환\n",
    "- array를 다시 image로 변환"
   ]
  },
  {
   "cell_type": "code",
   "execution_count": null,
   "metadata": {
    "id": "aGemy1DBjqLK"
   },
   "outputs": [],
   "source": [
    "from PIL import Image\n",
    "import numpy as np\n",
    "import urllib.request\n",
    "\n",
    "urllib.request.urlretrieve(\n",
    "  '<CHANGE_HERE>',\n",
    "   \"apple.jpg\")\n",
    "  \n",
    "img = Image.open(\"apple.jpg\")\n",
    "display(img)\n"
   ]
  },
  {
   "cell_type": "code",
   "execution_count": null,
   "metadata": {
    "id": "3ab0MH9dpSmh"
   },
   "outputs": [],
   "source": [
    "#resize image\n",
    "size=(200,200)\n",
    "resized_img = img.resize(size)\n",
    "display(resized_img)"
   ]
  },
  {
   "cell_type": "code",
   "execution_count": null,
   "metadata": {
    "id": "I2OtOmspoaB5"
   },
   "outputs": [],
   "source": [
    "im2arr = np.array(resized_img) # im2arr.shape: height x width x channel\n",
    "print('이미지 배열: ', im2arr[0:2])"
   ]
  },
  {
   "cell_type": "code",
   "execution_count": null,
   "metadata": {
    "id": "t1p5o-sRpm_U"
   },
   "outputs": [],
   "source": [
    "print('배열 구조: ', im2arr.shape)\n",
    "flat_im2arr = im2arr.flatten()  # 1차원 배열로 변환 - https://numpy.org/doc/stable/reference/generated/numpy.ndarray.flatten.html\n",
    "print('배열 flatten: ', flat_im2arr)"
   ]
  },
  {
   "cell_type": "code",
   "execution_count": null,
   "metadata": {
    "id": "M1grnD8KtrK1"
   },
   "outputs": [],
   "source": [
    "im2arr.shape"
   ]
  },
  {
   "cell_type": "code",
   "execution_count": null,
   "metadata": {
    "id": "85CtNAD4pfMF"
   },
   "outputs": [],
   "source": [
    "arr2im = Image.fromarray(im2arr)  # array를 다시 이미지로 변환\n",
    "display(arr2im)"
   ]
  },
  {
   "cell_type": "code",
   "execution_count": null,
   "metadata": {
    "id": "nlEqpFJv689w"
   },
   "outputs": [],
   "source": []
  },
  {
   "cell_type": "markdown",
   "metadata": {
    "id": "261tS-dMvDJa"
   },
   "source": [
    "# Caltec101 이미지 파일 다운로드\n",
    "- [Caltec101 데이터셋](http://www.vision.caltech.edu/Image_Datasets/Caltech101/)\n",
    "- 101 카테고리(class)\n",
    "- 카테고리별 40~800 이미지 파일\n",
    "- 이미지 크기는 300*200 픽셀(가변적)"
   ]
  },
  {
   "cell_type": "code",
   "execution_count": null,
   "metadata": {
    "id": "qu3l3EUK8ROJ"
   },
   "outputs": [],
   "source": [
    "!wget -O \"101_ObjectCategories.tar.gz\" \"<CHANGE_HERE>\""
   ]
  },
  {
   "cell_type": "code",
   "execution_count": null,
   "metadata": {
    "id": "KVHdSUMx8d8X"
   },
   "outputs": [],
   "source": [
    "!ls -al"
   ]
  },
  {
   "cell_type": "code",
   "execution_count": null,
   "metadata": {
    "id": "xZqK4hxi8Ucj"
   },
   "outputs": [],
   "source": [
    "# Unzip the data\n",
    "!tar xvzf 101_ObjectCategories.tar.gz > /dev/null  # silence - tar 결과 출력 제거\n",
    "# !rm 101_ObjectCategories.tar.gz*"
   ]
  },
  {
   "cell_type": "code",
   "execution_count": null,
   "metadata": {
    "id": "f5U4gzKd97ZH"
   },
   "outputs": [],
   "source": [
    "import glob\n",
    "import numpy as np\n",
    "from PIL import Image\n",
    "\n",
    "\n",
    "def get_filenames(glob_pattern, recursive=True):\n",
    "    \"\"\"Extracts list of filenames (full paths) based on specific glob path pattern.\n",
    "    \n",
    "    Parameters\n",
    "    ----------\n",
    "    glob_pattern : str\n",
    "        Glob pattern for glob to extract filenames, eg. \"directory/**/*.jpg\"\n",
    "    recursive : bool, optional\n",
    "        Recursively search through subdirectories, by default True\n",
    "    \n",
    "    Returns\n",
    "    -------\n",
    "    list\n",
    "        List of file paths\n",
    "    \"\"\"\n",
    "    all_files = glob.glob(glob_pattern, recursive=recursive)\n",
    "    print('Found %s files using pattern: %s' % (len(all_files), glob_pattern))\n",
    "    return all_files\n",
    "\n",
    "\n",
    "def expand2square(pil_img, background_color):\n",
    "    \"\"\"Function to pad an image to square using specific bg clr.\n",
    "    \n",
    "    Parameters\n",
    "    ----------\n",
    "    pil_img : PIL.Image\n",
    "        Pillow Image object that should be processed\n",
    "    background_color : int\n",
    "        Integer value representing bg color\n",
    "    \n",
    "    Returns\n",
    "    -------\n",
    "    PIL.Image\n",
    "        Square-padded image object\n",
    "    \"\"\"\n",
    "    width, height = pil_img.size\n",
    "    if width == height:\n",
    "        return pil_img\n",
    "    elif width > height:\n",
    "        result = Image.new(pil_img.mode, (width, width), background_color)\n",
    "        result.paste(pil_img, (0, (width - height) // 2))\n",
    "        return result\n",
    "    else:\n",
    "        result = Image.new(pil_img.mode, (height, height), background_color)\n",
    "        result.paste(pil_img, ((height - width) // 2, 0))\n",
    "        return result\n",
    "\n",
    "\n",
    "def get_images(filenames, target_size=(200,200), color='RGB', bg_clr=0):\n",
    "    \"\"\"Reads image files from provided file paths list, applies square-padding,\n",
    "    resizes all images into target size and returns them as a single numpy array\n",
    "    \n",
    "    Parameters\n",
    "    ----------\n",
    "    filenames : list\n",
    "        List of image file paths\n",
    "    target_size : tuple, optional\n",
    "        Target size for all the images to be resized to, by default (200,200)\n",
    "    color : str, optional\n",
    "        Color mode strategy for PIL when loading images, by default 'RGB'\n",
    "    bg_clr : int, optional\n",
    "        Integer representing background color used for square-padding, by default 0\n",
    "    \n",
    "    Returns\n",
    "    -------\n",
    "    numpy.array\n",
    "        Numpy array with resized images\n",
    "    \"\"\"\n",
    "    imgs_list = []\n",
    "    for filename in filenames:\n",
    "        img = Image.open(filename).convert(color)\n",
    "        im_square = expand2square(img, bg_clr)\n",
    "        im_res = im_square.resize(target_size)\n",
    "        imgs_list.append(np.array(im_res))\n",
    "\n",
    "    return np.asarray(imgs_list)\n"
   ]
  },
  {
   "cell_type": "code",
   "execution_count": null,
   "metadata": {
    "id": "0Hyz2D7S9_6o"
   },
   "outputs": [],
   "source": [
    "# Caltech101 dataset 파일 path list 생성\n",
    "filenames = get_filenames(\"101_ObjectCategories//**//*.*\")\n",
    "filenames[0:10]  # 전체 파일 리스트 중 10개만 조회"
   ]
  },
  {
   "cell_type": "code",
   "execution_count": null,
   "metadata": {
    "id": "QCX85Av2-DtM"
   },
   "outputs": [],
   "source": [
    "# numpy array로 이미지 파일을 변환\n",
    "imgs_np = get_images(filenames, target_size=(200,200), color='RGB', bg_clr=0)"
   ]
  },
  {
   "cell_type": "code",
   "execution_count": null,
   "metadata": {
    "id": "d1aS_JtU-EHf"
   },
   "outputs": [],
   "source": [
    "imgs_np.shape"
   ]
  },
  {
   "cell_type": "code",
   "execution_count": null,
   "metadata": {
    "id": "JC_aM7V2-GdF"
   },
   "outputs": [],
   "source": [
    "import matplotlib.pyplot as plt\n",
    "\n",
    "plt.imshow(imgs_np[900])  # 900번째 array 이미지 출력"
   ]
  },
  {
   "cell_type": "code",
   "execution_count": null,
   "metadata": {
    "id": "n2UO2zEO-K67"
   },
   "outputs": [],
   "source": [
    "# GPU가 아닐 경우 array 데이터셋 수를 조절. 1000개만 사용 \n",
    "imgs_np = imgs_np[:1000]\n",
    "# imgs_np = imgs_np  # 전체 데이터셋\n",
    "imgs_np.shape"
   ]
  },
  {
   "cell_type": "code",
   "execution_count": null,
   "metadata": {
    "id": "IlrtIDOMuuX0"
   },
   "outputs": [],
   "source": []
  },
  {
   "cell_type": "markdown",
   "metadata": {
    "id": "Fk5z7jPxuyI0"
   },
   "source": [
    "# Extract feature\n",
    "- 이미지의 feature를 pretrained model로 추출\n",
    "- feature를 이미지별로 2048 size 출력\n",
    "- VGG19와 Inception_V3 pretrained model 사용"
   ]
  },
  {
   "cell_type": "code",
   "execution_count": null,
   "metadata": {
    "id": "97sM91PwuvhC"
   },
   "outputs": [],
   "source": [
    "from tensorflow.keras import Model\n",
    "from tensorflow.keras.layers import GlobalAveragePooling2D, GlobalMaxPooling2D\n",
    "from tensorflow.keras.applications.vgg19 import VGG19\n",
    "from tensorflow.keras.applications.inception_v3 import InceptionV3\n",
    "\n",
    "def create_feat_extractor(base_model, pooling_method='avg'):\n",
    "    \"\"\"Creates a features extractor based on the provided base network.\n",
    "    \n",
    "    Parameters\n",
    "    ----------\n",
    "    base_model : keras.Model\n",
    "        Base network for feature extraction\n",
    "    pooling_method : str, optional\n",
    "        Pooling method that will be used as the last layer, by default 'avg'\n",
    "    \n",
    "    Returns\n",
    "    -------\n",
    "    keras.Model\n",
    "        Ready to use feature extractor\n",
    "    \"\"\"\n",
    "    assert pooling_method in ['avg', 'max']\n",
    "    \n",
    "    x = base_model.output\n",
    "    if pooling_method=='avg':\n",
    "        x = GlobalAveragePooling2D()(x)\n",
    "    elif pooling_method=='max':\n",
    "        x = GlobalMaxPooling2D()(x)\n",
    "    # model = Model(input=base_model.input, output=[x])\n",
    "    model = Model(base_model.input, [x])  # https://github.com/keras-team/keras/issues/13743#issuecomment-609674110\n",
    "\n",
    "    return model\n",
    "\n",
    "\n",
    "def extract_features(imgs_np, pretrained_model=\"resnet50\", pooling_method='avg'):    \n",
    "    \"\"\"Takes in an array of fixed size images and returns features/embeddings\n",
    "    returned by one of the selected pretrained networks.\n",
    "    \n",
    "    Parameters\n",
    "    ----------\n",
    "    imgs_np : numpy.array\n",
    "        Numpy array of images\n",
    "    pretrained_model : str, optional\n",
    "        Name of the pretrained model to be used, by default \"resnet50\"\n",
    "        ['resnet50', 'inception_v3', 'vgg19']\n",
    "    pooling_method : str, optional\n",
    "        Defines the last pooling layer that should be applied, by default 'avg'\n",
    "        ['avg', 'max']\n",
    "    \n",
    "    Returns\n",
    "    -------\n",
    "    numpy.array\n",
    "        Array of embeddings vectors. Each row represents embeddings for single input image\n",
    "    \"\"\"\n",
    "    print('Input images shape: ', imgs_np.shape)\n",
    "    pretrained_model = pretrained_model.lower()\n",
    "    assert pretrained_model in ['inception_v3', 'vgg19']\n",
    "    assert pooling_method in ['avg', 'max']\n",
    "\n",
    "    model_args={\n",
    "        'weights': 'imagenet',\n",
    "        'include_top': False,\n",
    "        'input_shape': imgs_np[0].shape\n",
    "        }\n",
    "\n",
    "    if pretrained_model==\"inception_v3\":\n",
    "        base = InceptionV3(**model_args)\n",
    "        from tensorflow.keras.applications.inception_v3 import preprocess_input\n",
    "    elif pretrained_model==\"vgg19\":\n",
    "        base = VGG19(**model_args)\n",
    "        from tensorflow.keras.applications.vgg19 import preprocess_input\n",
    "\n",
    "    feat_extractor = create_feat_extractor(base, pooling_method=pooling_method)\n",
    "\n",
    "    imgs_np = preprocess_input(imgs_np)\n",
    "    embeddings_np = feat_extractor.predict(imgs_np)\n",
    "    print('Features shape: ', embeddings_np.shape)\n",
    "    \n",
    "    return embeddings_np"
   ]
  },
  {
   "cell_type": "code",
   "execution_count": null,
   "metadata": {
    "id": "ZJnWSM5Q-R4J"
   },
   "outputs": [],
   "source": [
    "# Feature extract는 GPU가 아닐경우 오래 걸림. CPU일 경우 imgs_np의 수를 조절\n",
    "embeddings = extract_features(imgs_np, pretrained_model=\"inception_v3\")"
   ]
  },
  {
   "cell_type": "code",
   "execution_count": null,
   "metadata": {
    "id": "BcWdlNBZE_Fs"
   },
   "outputs": [],
   "source": [
    "embeddings.shape  # inception은 vector size가 2048, vgg19는 512"
   ]
  },
  {
   "cell_type": "code",
   "execution_count": null,
   "metadata": {
    "id": "RGwkeRDO-aiy"
   },
   "outputs": [],
   "source": [
    "embeddings[0:5]"
   ]
  },
  {
   "cell_type": "code",
   "execution_count": null,
   "metadata": {},
   "outputs": [],
   "source": []
  },
  {
   "cell_type": "markdown",
   "metadata": {},
   "source": [
    "# 쿼리 수행"
   ]
  },
  {
   "cell_type": "code",
   "execution_count": null,
   "metadata": {
    "id": "PbZo5AKuFglo"
   },
   "outputs": [],
   "source": [
    "d = embeddings.shape[1]  # 차원\n",
    "nb = embeddings.shape[0]  # 데이터 수\n",
    "nq = 1  # 수행할 쿼리\n"
   ]
  },
  {
   "cell_type": "code",
   "execution_count": null,
   "metadata": {
    "id": "vZMe4N8kF2OK"
   },
   "outputs": [],
   "source": [
    "index = faiss.IndexFlatL2(d)   # 인덱스 생성\n",
    "print('index.is_trained : ', index.is_trained)"
   ]
  },
  {
   "cell_type": "code",
   "execution_count": null,
   "metadata": {
    "id": "UQ6ZsS3hF3eO"
   },
   "outputs": [],
   "source": [
    "%time index.add(embeddings)  # Vector를 인덱스에 추가\n",
    "print('index.ntotal : ', index.ntotal)"
   ]
  },
  {
   "cell_type": "code",
   "execution_count": null,
   "metadata": {
    "id": "uP-biib7Kh0J"
   },
   "outputs": [],
   "source": []
  },
  {
   "cell_type": "code",
   "execution_count": null,
   "metadata": {
    "id": "v35Gnd1kGwa4"
   },
   "outputs": [],
   "source": [
    "file_order = 600  # 이 위치의 데이터로 쿼리 수행\n",
    "xq = embeddings[file_order:file_order + 1] "
   ]
  },
  {
   "cell_type": "code",
   "execution_count": null,
   "metadata": {
    "id": "FB-MtYl8IZGe"
   },
   "outputs": [],
   "source": [
    "print('image file : ' + filenames[file_order])\n",
    "\n",
    "p_img = Image.open(filenames[file_order])\n",
    "img =  np.array(p_img) \n",
    "plt.imshow(img)"
   ]
  },
  {
   "cell_type": "code",
   "execution_count": null,
   "metadata": {
    "id": "BsEXXiFYIZZd"
   },
   "outputs": [],
   "source": []
  },
  {
   "cell_type": "code",
   "execution_count": null,
   "metadata": {
    "id": "TYaZoVPrGCf0"
   },
   "outputs": [],
   "source": [
    "# 5개의 최근접 결과 출력\n",
    "k = 5 "
   ]
  },
  {
   "cell_type": "code",
   "execution_count": null,
   "metadata": {
    "id": "QPa_l7WAJez0"
   },
   "outputs": [],
   "source": [
    "# search 실행\n",
    "D, I = index.search(xq, k)"
   ]
  },
  {
   "cell_type": "code",
   "execution_count": null,
   "metadata": {
    "id": "fLKaDUgSG-g8"
   },
   "outputs": [],
   "source": [
    "print(D, I)"
   ]
  },
  {
   "cell_type": "code",
   "execution_count": null,
   "metadata": {
    "id": "-1jRjFQCHAOf"
   },
   "outputs": [],
   "source": [
    "# 결과 정보 출력\n",
    "def draw_image5(img_indexes, img_distance):\n",
    "    print(img_indexes)\n",
    "    w=10\n",
    "    h=10\n",
    "    fig=plt.figure(figsize=(12, 12))\n",
    "    columns = 5\n",
    "    rows = 1\n",
    "    for i in range(1, columns*rows +1):\n",
    "        print('image index : ' + str(img_indexes[0][i-1]))\n",
    "        print('image distance : ' + str(img_distance[0][i-1]))\n",
    "        \n",
    "        print('image file : ' + filenames[img_indexes[0][i-1]])\n",
    "        p_img = Image.open(filenames[img_indexes[0][i-1]])\n",
    "        img =  np.array(p_img) \n",
    "        fig.add_subplot(rows, columns, i)\n",
    "        plt.imshow(img)\n",
    "    plt.show()\n",
    "    \n",
    "draw_image5(I, D)"
   ]
  },
  {
   "cell_type": "code",
   "execution_count": null,
   "metadata": {
    "id": "kJ8YOiB8Jl0T"
   },
   "outputs": [],
   "source": []
  },
  {
   "cell_type": "markdown",
   "metadata": {
    "id": "rUmz7Lrr7uIi"
   },
   "source": [
    "# 외부 파일 업로드 - vector로 변환 처리\n",
    "- 외부 파일을 업로드 또는 가져오기\n",
    "- get_images로 numpy로 변환\n",
    "- extract_features로 feature 추출\n",
    "- search 수행하고 결과 출력"
   ]
  },
  {
   "cell_type": "code",
   "execution_count": null,
   "metadata": {
    "id": "8l0IkNGL7-SA"
   },
   "outputs": [],
   "source": [
    "# 미리 올려둔 파일 다운로드\n",
    "urllib.request.urlretrieve(\n",
    "  '<CHANGE_HERE>',\n",
    "   \"apple.jpg\")\n",
    "q_img = 'apple.jpg'\n",
    "\n",
    "# 이미지를 numpy로 변환\n",
    "q_img_np = get_images([q_img])\n",
    "\n",
    "# Feature 추출\n",
    "xq = extract_features(q_img_np, pretrained_model=\"inception_v3\")\n",
    "print(xq.shape)\n",
    "\n",
    "# search 수행\n",
    "D, I = index.search(xq, k)\n",
    "print(D, I)\n",
    "\n",
    "# query 이미지\n",
    "img = Image.open(q_img)\n",
    "size = (200, 200)\n",
    "resized_img = img.resize(size)\n",
    "display(resized_img)\n",
    "\n",
    "# 결과 출력\n",
    "draw_image5(I, D)\n"
   ]
  },
  {
   "cell_type": "code",
   "execution_count": null,
   "metadata": {
    "id": "ETB7s4-u8fVf"
   },
   "outputs": [],
   "source": []
  }
 ],
 "metadata": {
  "colab": {
   "collapsed_sections": [],
   "name": "similarity_search.ipynb",
   "provenance": []
  },
  "kernelspec": {
   "display_name": "Python 3 (ipykernel)",
   "language": "python",
   "name": "python3"
  },
  "language_info": {
   "codemirror_mode": {
    "name": "ipython",
    "version": 3
   },
   "file_extension": ".py",
   "mimetype": "text/x-python",
   "name": "python",
   "nbconvert_exporter": "python",
   "pygments_lexer": "ipython3",
   "version": "3.8.12"
  }
 },
 "nbformat": 4,
 "nbformat_minor": 1
}
